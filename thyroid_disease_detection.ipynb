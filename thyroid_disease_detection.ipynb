{
 "cells": [
  {
   "cell_type": "raw",
   "metadata": {},
   "source": [
    "PROBLEM STATEMENT :\n",
    "Thyroid disease is a common cause of medical diagnosis and prediction, with an onset\n",
    "that is difficult to forecast in medical research. The thyroid gland is one of our body's\n",
    "most vital organs. Thyroid hormone releases are responsible for metabolic regulation.\n",
    "Hyperthyroidism and hypothyroidism are one of the two common diseases of the thyroid\n",
    "that releases thyroid hormones in regulating the rate of body's metabolism.\n",
    "The main goal is to predict the estimated risk on a patient's chance of obtaining thyroid\n",
    "disease or not.\n",
    "\n",
    "\n",
    "\tClass 1: (normal)\t150\n",
    "\tClass 2: (hyper)\t35\n",
    "\tClass 3: (hypo)\t\t30\n"
   ]
  },
  {
   "cell_type": "markdown",
   "metadata": {},
   "source": [
    "#### IMPORTING DEPENDENCIES"
   ]
  },
  {
   "cell_type": "code",
   "execution_count": 322,
   "metadata": {},
   "outputs": [],
   "source": [
    "import numpy as np\n",
    "import pandas as pd\n",
    "import matplotlib.pyplot as plt\n",
    "import seaborn as sns\n",
    "import pickle\n",
    "import sklearn\n",
    "\n",
    "from sklearn.preprocessing import StandardScaler,LabelEncoder\n",
    "from sklearn.model_selection import train_test_split,cross_val_score\n",
    "from sklearn.model_selection import KFold\n",
    "from sklearn.model_selection import GridSearchCV\n",
    "from sklearn.linear_model import LogisticRegression\n",
    "from sklearn.ensemble import BaggingClassifier,RandomForestClassifier,AdaBoostClassifier,VotingClassifier\n",
    "from sklearn.tree import DecisionTreeClassifier\n",
    "from sklearn.neighbors import KNeighborsClassifier\n",
    "from sklearn.metrics import classification_report,confusion_matrix\n",
    "from sklearn import svm\n",
    "from sklearn.svm import SVC\n"
   ]
  },
  {
   "cell_type": "code",
   "execution_count": 240,
   "metadata": {},
   "outputs": [],
   "source": [
    "data=pd.read_csv(\"https://archive.ics.uci.edu/ml/machine-learning-databases/thyroid-disease/new-thyroid.data\",\n",
    "               names=\n",
    "               [\"Class attribute\",\"T3 resin uptake test\",\n",
    "                     \"Total Serum thyroxin\",\n",
    "                    \"Total serum triiodothyronine\",\n",
    "                      \"basal thyroid-stimulating hormone (TSH)\",\n",
    "                     \"Maximal absolute difference of TSH value after injection of 200 micro grams of thyrotropin releasing hormone as comparedto the basal value\"])"
   ]
  },
  {
   "cell_type": "code",
   "execution_count": 241,
   "metadata": {},
   "outputs": [
    {
     "data": {
      "text/html": [
       "<div>\n",
       "<style scoped>\n",
       "    .dataframe tbody tr th:only-of-type {\n",
       "        vertical-align: middle;\n",
       "    }\n",
       "\n",
       "    .dataframe tbody tr th {\n",
       "        vertical-align: top;\n",
       "    }\n",
       "\n",
       "    .dataframe thead th {\n",
       "        text-align: right;\n",
       "    }\n",
       "</style>\n",
       "<table border=\"1\" class=\"dataframe\">\n",
       "  <thead>\n",
       "    <tr style=\"text-align: right;\">\n",
       "      <th></th>\n",
       "      <th>Class attribute</th>\n",
       "      <th>T3 resin uptake test</th>\n",
       "      <th>Total Serum thyroxin</th>\n",
       "      <th>Total serum triiodothyronine</th>\n",
       "      <th>basal thyroid-stimulating hormone (TSH)</th>\n",
       "      <th>Maximal absolute difference of TSH value after injection of 200 micro grams of thyrotropin releasing hormone as comparedto the basal value</th>\n",
       "    </tr>\n",
       "  </thead>\n",
       "  <tbody>\n",
       "    <tr>\n",
       "      <th>0</th>\n",
       "      <td>1</td>\n",
       "      <td>107</td>\n",
       "      <td>10.1</td>\n",
       "      <td>2.2</td>\n",
       "      <td>0.9</td>\n",
       "      <td>2.7</td>\n",
       "    </tr>\n",
       "    <tr>\n",
       "      <th>1</th>\n",
       "      <td>1</td>\n",
       "      <td>113</td>\n",
       "      <td>9.9</td>\n",
       "      <td>3.1</td>\n",
       "      <td>2.0</td>\n",
       "      <td>5.9</td>\n",
       "    </tr>\n",
       "    <tr>\n",
       "      <th>2</th>\n",
       "      <td>1</td>\n",
       "      <td>127</td>\n",
       "      <td>12.9</td>\n",
       "      <td>2.4</td>\n",
       "      <td>1.4</td>\n",
       "      <td>0.6</td>\n",
       "    </tr>\n",
       "    <tr>\n",
       "      <th>3</th>\n",
       "      <td>1</td>\n",
       "      <td>109</td>\n",
       "      <td>5.3</td>\n",
       "      <td>1.6</td>\n",
       "      <td>1.4</td>\n",
       "      <td>1.5</td>\n",
       "    </tr>\n",
       "    <tr>\n",
       "      <th>4</th>\n",
       "      <td>1</td>\n",
       "      <td>105</td>\n",
       "      <td>7.3</td>\n",
       "      <td>1.5</td>\n",
       "      <td>1.5</td>\n",
       "      <td>-0.1</td>\n",
       "    </tr>\n",
       "    <tr>\n",
       "      <th>...</th>\n",
       "      <td>...</td>\n",
       "      <td>...</td>\n",
       "      <td>...</td>\n",
       "      <td>...</td>\n",
       "      <td>...</td>\n",
       "      <td>...</td>\n",
       "    </tr>\n",
       "    <tr>\n",
       "      <th>210</th>\n",
       "      <td>3</td>\n",
       "      <td>118</td>\n",
       "      <td>6.5</td>\n",
       "      <td>1.3</td>\n",
       "      <td>1.7</td>\n",
       "      <td>11.5</td>\n",
       "    </tr>\n",
       "    <tr>\n",
       "      <th>211</th>\n",
       "      <td>3</td>\n",
       "      <td>139</td>\n",
       "      <td>4.2</td>\n",
       "      <td>0.7</td>\n",
       "      <td>4.3</td>\n",
       "      <td>6.3</td>\n",
       "    </tr>\n",
       "    <tr>\n",
       "      <th>212</th>\n",
       "      <td>3</td>\n",
       "      <td>103</td>\n",
       "      <td>5.1</td>\n",
       "      <td>1.4</td>\n",
       "      <td>1.2</td>\n",
       "      <td>5.0</td>\n",
       "    </tr>\n",
       "    <tr>\n",
       "      <th>213</th>\n",
       "      <td>3</td>\n",
       "      <td>97</td>\n",
       "      <td>4.7</td>\n",
       "      <td>1.1</td>\n",
       "      <td>2.1</td>\n",
       "      <td>12.6</td>\n",
       "    </tr>\n",
       "    <tr>\n",
       "      <th>214</th>\n",
       "      <td>3</td>\n",
       "      <td>102</td>\n",
       "      <td>5.3</td>\n",
       "      <td>1.4</td>\n",
       "      <td>1.3</td>\n",
       "      <td>6.7</td>\n",
       "    </tr>\n",
       "  </tbody>\n",
       "</table>\n",
       "<p>215 rows × 6 columns</p>\n",
       "</div>"
      ],
      "text/plain": [
       "     Class attribute  T3 resin uptake test  Total Serum thyroxin  \\\n",
       "0                  1                   107                  10.1   \n",
       "1                  1                   113                   9.9   \n",
       "2                  1                   127                  12.9   \n",
       "3                  1                   109                   5.3   \n",
       "4                  1                   105                   7.3   \n",
       "..               ...                   ...                   ...   \n",
       "210                3                   118                   6.5   \n",
       "211                3                   139                   4.2   \n",
       "212                3                   103                   5.1   \n",
       "213                3                    97                   4.7   \n",
       "214                3                   102                   5.3   \n",
       "\n",
       "     Total serum triiodothyronine  basal thyroid-stimulating hormone (TSH)  \\\n",
       "0                             2.2                                      0.9   \n",
       "1                             3.1                                      2.0   \n",
       "2                             2.4                                      1.4   \n",
       "3                             1.6                                      1.4   \n",
       "4                             1.5                                      1.5   \n",
       "..                            ...                                      ...   \n",
       "210                           1.3                                      1.7   \n",
       "211                           0.7                                      4.3   \n",
       "212                           1.4                                      1.2   \n",
       "213                           1.1                                      2.1   \n",
       "214                           1.4                                      1.3   \n",
       "\n",
       "     Maximal absolute difference of TSH value after injection of 200 micro grams of thyrotropin releasing hormone as comparedto the basal value  \n",
       "0                                                  2.7                                                                                           \n",
       "1                                                  5.9                                                                                           \n",
       "2                                                  0.6                                                                                           \n",
       "3                                                  1.5                                                                                           \n",
       "4                                                 -0.1                                                                                           \n",
       "..                                                 ...                                                                                           \n",
       "210                                               11.5                                                                                           \n",
       "211                                                6.3                                                                                           \n",
       "212                                                5.0                                                                                           \n",
       "213                                               12.6                                                                                           \n",
       "214                                                6.7                                                                                           \n",
       "\n",
       "[215 rows x 6 columns]"
      ]
     },
     "execution_count": 241,
     "metadata": {},
     "output_type": "execute_result"
    }
   ],
   "source": [
    "data"
   ]
  },
  {
   "cell_type": "markdown",
   "metadata": {},
   "source": [
    "#### DATA EXPLORATION"
   ]
  },
  {
   "cell_type": "code",
   "execution_count": 242,
   "metadata": {},
   "outputs": [
    {
     "name": "stdout",
     "output_type": "stream",
     "text": [
      "<class 'pandas.core.frame.DataFrame'>\n",
      "RangeIndex: 215 entries, 0 to 214\n",
      "Data columns (total 6 columns):\n",
      " #   Column                                                                                                                                      Non-Null Count  Dtype  \n",
      "---  ------                                                                                                                                      --------------  -----  \n",
      " 0   Class attribute                                                                                                                             215 non-null    int64  \n",
      " 1   T3 resin uptake test                                                                                                                        215 non-null    int64  \n",
      " 2   Total Serum thyroxin                                                                                                                        215 non-null    float64\n",
      " 3   Total serum triiodothyronine                                                                                                                215 non-null    float64\n",
      " 4   basal thyroid-stimulating hormone (TSH)                                                                                                     215 non-null    float64\n",
      " 5   Maximal absolute difference of TSH value after injection of 200 micro grams of thyrotropin releasing hormone as comparedto the basal value  215 non-null    float64\n",
      "dtypes: float64(4), int64(2)\n",
      "memory usage: 10.2 KB\n"
     ]
    }
   ],
   "source": [
    "data.info()"
   ]
  },
  {
   "cell_type": "code",
   "execution_count": 243,
   "metadata": {},
   "outputs": [
    {
     "data": {
      "text/plain": [
       "Class attribute                                                                                                                               0\n",
       "T3 resin uptake test                                                                                                                          0\n",
       "Total Serum thyroxin                                                                                                                          0\n",
       "Total serum triiodothyronine                                                                                                                  0\n",
       "basal thyroid-stimulating hormone (TSH)                                                                                                       0\n",
       "Maximal absolute difference of TSH value after injection of 200 micro grams of thyrotropin releasing hormone as comparedto the basal value    0\n",
       "dtype: int64"
      ]
     },
     "execution_count": 243,
     "metadata": {},
     "output_type": "execute_result"
    }
   ],
   "source": [
    "data.isna().sum()"
   ]
  },
  {
   "cell_type": "code",
   "execution_count": 244,
   "metadata": {},
   "outputs": [
    {
     "data": {
      "text/plain": [
       "0"
      ]
     },
     "execution_count": 244,
     "metadata": {},
     "output_type": "execute_result"
    }
   ],
   "source": [
    "data.duplicated().sum()"
   ]
  },
  {
   "cell_type": "code",
   "execution_count": 245,
   "metadata": {},
   "outputs": [
    {
     "data": {
      "text/html": [
       "<div>\n",
       "<style scoped>\n",
       "    .dataframe tbody tr th:only-of-type {\n",
       "        vertical-align: middle;\n",
       "    }\n",
       "\n",
       "    .dataframe tbody tr th {\n",
       "        vertical-align: top;\n",
       "    }\n",
       "\n",
       "    .dataframe thead th {\n",
       "        text-align: right;\n",
       "    }\n",
       "</style>\n",
       "<table border=\"1\" class=\"dataframe\">\n",
       "  <thead>\n",
       "    <tr style=\"text-align: right;\">\n",
       "      <th></th>\n",
       "      <th>Class attribute</th>\n",
       "      <th>T3 resin uptake test</th>\n",
       "      <th>Total Serum thyroxin</th>\n",
       "      <th>Total serum triiodothyronine</th>\n",
       "      <th>basal thyroid-stimulating hormone (TSH)</th>\n",
       "      <th>Maximal absolute difference of TSH value after injection of 200 micro grams of thyrotropin releasing hormone as comparedto the basal value</th>\n",
       "    </tr>\n",
       "  </thead>\n",
       "  <tbody>\n",
       "    <tr>\n",
       "      <th>count</th>\n",
       "      <td>215.000000</td>\n",
       "      <td>215.000000</td>\n",
       "      <td>215.000000</td>\n",
       "      <td>215.000000</td>\n",
       "      <td>215.000000</td>\n",
       "      <td>215.000000</td>\n",
       "    </tr>\n",
       "    <tr>\n",
       "      <th>mean</th>\n",
       "      <td>1.441860</td>\n",
       "      <td>109.595349</td>\n",
       "      <td>9.804651</td>\n",
       "      <td>2.050233</td>\n",
       "      <td>2.880000</td>\n",
       "      <td>4.199070</td>\n",
       "    </tr>\n",
       "    <tr>\n",
       "      <th>std</th>\n",
       "      <td>0.726737</td>\n",
       "      <td>13.145447</td>\n",
       "      <td>4.697362</td>\n",
       "      <td>1.419486</td>\n",
       "      <td>6.118031</td>\n",
       "      <td>8.070519</td>\n",
       "    </tr>\n",
       "    <tr>\n",
       "      <th>min</th>\n",
       "      <td>1.000000</td>\n",
       "      <td>65.000000</td>\n",
       "      <td>0.500000</td>\n",
       "      <td>0.200000</td>\n",
       "      <td>0.100000</td>\n",
       "      <td>-0.700000</td>\n",
       "    </tr>\n",
       "    <tr>\n",
       "      <th>25%</th>\n",
       "      <td>1.000000</td>\n",
       "      <td>103.000000</td>\n",
       "      <td>7.100000</td>\n",
       "      <td>1.350000</td>\n",
       "      <td>1.000000</td>\n",
       "      <td>0.550000</td>\n",
       "    </tr>\n",
       "    <tr>\n",
       "      <th>50%</th>\n",
       "      <td>1.000000</td>\n",
       "      <td>110.000000</td>\n",
       "      <td>9.200000</td>\n",
       "      <td>1.700000</td>\n",
       "      <td>1.300000</td>\n",
       "      <td>2.000000</td>\n",
       "    </tr>\n",
       "    <tr>\n",
       "      <th>75%</th>\n",
       "      <td>2.000000</td>\n",
       "      <td>117.500000</td>\n",
       "      <td>11.300000</td>\n",
       "      <td>2.200000</td>\n",
       "      <td>1.700000</td>\n",
       "      <td>4.100000</td>\n",
       "    </tr>\n",
       "    <tr>\n",
       "      <th>max</th>\n",
       "      <td>3.000000</td>\n",
       "      <td>144.000000</td>\n",
       "      <td>25.300000</td>\n",
       "      <td>10.000000</td>\n",
       "      <td>56.400000</td>\n",
       "      <td>56.300000</td>\n",
       "    </tr>\n",
       "  </tbody>\n",
       "</table>\n",
       "</div>"
      ],
      "text/plain": [
       "       Class attribute  T3 resin uptake test  Total Serum thyroxin  \\\n",
       "count       215.000000            215.000000            215.000000   \n",
       "mean          1.441860            109.595349              9.804651   \n",
       "std           0.726737             13.145447              4.697362   \n",
       "min           1.000000             65.000000              0.500000   \n",
       "25%           1.000000            103.000000              7.100000   \n",
       "50%           1.000000            110.000000              9.200000   \n",
       "75%           2.000000            117.500000             11.300000   \n",
       "max           3.000000            144.000000             25.300000   \n",
       "\n",
       "       Total serum triiodothyronine  basal thyroid-stimulating hormone (TSH)  \\\n",
       "count                    215.000000                               215.000000   \n",
       "mean                       2.050233                                 2.880000   \n",
       "std                        1.419486                                 6.118031   \n",
       "min                        0.200000                                 0.100000   \n",
       "25%                        1.350000                                 1.000000   \n",
       "50%                        1.700000                                 1.300000   \n",
       "75%                        2.200000                                 1.700000   \n",
       "max                       10.000000                                56.400000   \n",
       "\n",
       "       Maximal absolute difference of TSH value after injection of 200 micro grams of thyrotropin releasing hormone as comparedto the basal value  \n",
       "count                                         215.000000                                                                                           \n",
       "mean                                            4.199070                                                                                           \n",
       "std                                             8.070519                                                                                           \n",
       "min                                            -0.700000                                                                                           \n",
       "25%                                             0.550000                                                                                           \n",
       "50%                                             2.000000                                                                                           \n",
       "75%                                             4.100000                                                                                           \n",
       "max                                            56.300000                                                                                           "
      ]
     },
     "execution_count": 245,
     "metadata": {},
     "output_type": "execute_result"
    }
   ],
   "source": [
    "data.describe()"
   ]
  },
  {
   "cell_type": "code",
   "execution_count": 246,
   "metadata": {},
   "outputs": [
    {
     "data": {
      "text/plain": [
       "Class attribute                                                                                                                                 int64\n",
       "T3 resin uptake test                                                                                                                            int64\n",
       "Total Serum thyroxin                                                                                                                          float64\n",
       "Total serum triiodothyronine                                                                                                                  float64\n",
       "basal thyroid-stimulating hormone (TSH)                                                                                                       float64\n",
       "Maximal absolute difference of TSH value after injection of 200 micro grams of thyrotropin releasing hormone as comparedto the basal value    float64\n",
       "dtype: object"
      ]
     },
     "execution_count": 246,
     "metadata": {},
     "output_type": "execute_result"
    }
   ],
   "source": [
    "data.dtypes"
   ]
  },
  {
   "cell_type": "code",
   "execution_count": 247,
   "metadata": {},
   "outputs": [
    {
     "data": {
      "text/plain": [
       "(215, 6)"
      ]
     },
     "execution_count": 247,
     "metadata": {},
     "output_type": "execute_result"
    }
   ],
   "source": [
    "data.shape"
   ]
  },
  {
   "cell_type": "markdown",
   "metadata": {},
   "source": [
    "#### DATA EXPLORATION"
   ]
  },
  {
   "cell_type": "code",
   "execution_count": 248,
   "metadata": {},
   "outputs": [
    {
     "data": {
      "text/plain": [
       "<AxesSubplot:xlabel='Class attribute', ylabel='count'>"
      ]
     },
     "execution_count": 248,
     "metadata": {},
     "output_type": "execute_result"
    },
    {
     "data": {
      "image/png": "[encoded data removed]",
      "text/plain": [
       "<Figure size 432x288 with 1 Axes>"
      ]
     },
     "metadata": {
      "needs_background": "light"
     },
     "output_type": "display_data"
    }
   ],
   "source": [
    "sns.countplot(x=\"Class attribute\",data=data)"
   ]
  },
  {
   "cell_type": "markdown",
   "metadata": {},
   "source": [
    "#### DATA CLEANING"
   ]
  },
  {
   "cell_type": "code",
   "execution_count": 249,
   "metadata": {},
   "outputs": [
    {
     "data": {
      "text/plain": [
       "count    215.000000\n",
       "mean     109.595349\n",
       "std       13.145447\n",
       "min       65.000000\n",
       "25%      103.000000\n",
       "50%      110.000000\n",
       "75%      117.500000\n",
       "max      144.000000\n",
       "Name: T3 resin uptake test, dtype: float64"
      ]
     },
     "execution_count": 249,
     "metadata": {},
     "output_type": "execute_result"
    }
   ],
   "source": [
    "data[\"T3 resin uptake test\"].describe()"
   ]
  },
  {
   "cell_type": "code",
   "execution_count": 250,
   "metadata": {},
   "outputs": [
    {
     "data": {
      "text/plain": [
       "{'whiskers': [<matplotlib.lines.Line2D at 0x1d7937c2640>,\n",
       "  <matplotlib.lines.Line2D at 0x1d7937c29a0>],\n",
       " 'caps': [<matplotlib.lines.Line2D at 0x1d7937c2d00>,\n",
       "  <matplotlib.lines.Line2D at 0x1d7937c80a0>],\n",
       " 'boxes': [<matplotlib.lines.Line2D at 0x1d7937c22e0>],\n",
       " 'medians': [<matplotlib.lines.Line2D at 0x1d7937c8400>],\n",
       " 'fliers': [<matplotlib.lines.Line2D at 0x1d7937c8760>],\n",
       " 'means': []}"
      ]
     },
     "execution_count": 250,
     "metadata": {},
     "output_type": "execute_result"
    },
    {
     "data": {
      "image/png": "[encoded data removed]",
      "text/plain": [
       "<Figure size 432x288 with 1 Axes>"
      ]
     },
     "metadata": {
      "needs_background": "light"
     },
     "output_type": "display_data"
    }
   ],
   "source": [
    "plt.boxplot(data[\"T3 resin uptake test\"])"
   ]
  },
  {
   "cell_type": "code",
   "execution_count": 251,
   "metadata": {},
   "outputs": [],
   "source": [
    "def outlierremove(col):\n",
    "    sorted(col)\n",
    "    q1,q3=col.quantile([0.25,0.75])\n",
    "    iqr=q3-q1\n",
    "    lower_range=q1-(1.5*iqr)\n",
    "    upper_range=q3+(1.5*iqr)\n",
    "    return lower_range,upper_range"
   ]
  },
  {
   "cell_type": "code",
   "execution_count": 252,
   "metadata": {},
   "outputs": [
    {
     "data": {
      "text/plain": [
       "(81.25, 139.25)"
      ]
     },
     "execution_count": 252,
     "metadata": {},
     "output_type": "execute_result"
    }
   ],
   "source": [
    "lower_1,upper_1=outlierremove(data[\"T3 resin uptake test\"])\n",
    "lower_1,upper_1\n"
   ]
  },
  {
   "cell_type": "code",
   "execution_count": 253,
   "metadata": {},
   "outputs": [],
   "source": [
    "data['T3 resin uptake test']=np.where(data['T3 resin uptake test']>upper_1,upper_1,data['T3 resin uptake test'])"
   ]
  },
  {
   "cell_type": "code",
   "execution_count": 254,
   "metadata": {},
   "outputs": [],
   "source": [
    "data['T3 resin uptake test']=np.where(data['T3 resin uptake test']<lower_1,lower_1,data['T3 resin uptake test'])"
   ]
  },
  {
   "cell_type": "code",
   "execution_count": 255,
   "metadata": {},
   "outputs": [
    {
     "data": {
      "text/plain": [
       "{'whiskers': [<matplotlib.lines.Line2D at 0x1d7937fb8e0>,\n",
       "  <matplotlib.lines.Line2D at 0x1d7937fbc40>],\n",
       " 'caps': [<matplotlib.lines.Line2D at 0x1d7937fbfa0>,\n",
       "  <matplotlib.lines.Line2D at 0x1d793803340>],\n",
       " 'boxes': [<matplotlib.lines.Line2D at 0x1d7937fb580>],\n",
       " 'medians': [<matplotlib.lines.Line2D at 0x1d7938036a0>],\n",
       " 'fliers': [<matplotlib.lines.Line2D at 0x1d793803a00>],\n",
       " 'means': []}"
      ]
     },
     "execution_count": 255,
     "metadata": {},
     "output_type": "execute_result"
    },
    {
     "data": {
      "image/png": "[encoded data removed]",
      "text/plain": [
       "<Figure size 432x288 with 1 Axes>"
      ]
     },
     "metadata": {
      "needs_background": "light"
     },
     "output_type": "display_data"
    }
   ],
   "source": [
    "plt.boxplot(data[\"T3 resin uptake test\"])"
   ]
  },
  {
   "cell_type": "code",
   "execution_count": 256,
   "metadata": {},
   "outputs": [
    {
     "data": {
      "text/plain": [
       "{'whiskers': [<matplotlib.lines.Line2D at 0x1d79383a460>,\n",
       "  <matplotlib.lines.Line2D at 0x1d79383a7c0>],\n",
       " 'caps': [<matplotlib.lines.Line2D at 0x1d79383ab20>,\n",
       "  <matplotlib.lines.Line2D at 0x1d79383ae80>],\n",
       " 'boxes': [<matplotlib.lines.Line2D at 0x1d79383a100>],\n",
       " 'medians': [<matplotlib.lines.Line2D at 0x1d793841220>],\n",
       " 'fliers': [<matplotlib.lines.Line2D at 0x1d793841580>],\n",
       " 'means': []}"
      ]
     },
     "execution_count": 256,
     "metadata": {},
     "output_type": "execute_result"
    },
    {
     "data": {
      "image/png": "[encoded data removed]",
      "text/plain": [
       "<Figure size 432x288 with 1 Axes>"
      ]
     },
     "metadata": {
      "needs_background": "light"
     },
     "output_type": "display_data"
    }
   ],
   "source": [
    "plt.boxplot(data[\"Total Serum thyroxin\"])"
   ]
  },
  {
   "cell_type": "code",
   "execution_count": 257,
   "metadata": {},
   "outputs": [
    {
     "data": {
      "text/plain": [
       "(0.799999999999998, 17.6)"
      ]
     },
     "execution_count": 257,
     "metadata": {},
     "output_type": "execute_result"
    }
   ],
   "source": [
    "lower_2,upper_2=outlierremove(data[\"Total Serum thyroxin\"])\n",
    "lower_2,upper_2\n"
   ]
  },
  {
   "cell_type": "code",
   "execution_count": 258,
   "metadata": {},
   "outputs": [],
   "source": [
    "data['Total Serum thyroxin']=np.where(data['Total Serum thyroxin']>upper_2,upper_2,data['Total Serum thyroxin'])"
   ]
  },
  {
   "cell_type": "code",
   "execution_count": 259,
   "metadata": {},
   "outputs": [],
   "source": [
    "data['Total Serum thyroxin']=np.where(data['Total Serum thyroxin']<lower_2,lower_2,data['Total Serum thyroxin'])"
   ]
  },
  {
   "cell_type": "code",
   "execution_count": 260,
   "metadata": {},
   "outputs": [
    {
     "data": {
      "text/plain": [
       "{'whiskers': [<matplotlib.lines.Line2D at 0x1d793872c10>,\n",
       "  <matplotlib.lines.Line2D at 0x1d793872f70>],\n",
       " 'caps': [<matplotlib.lines.Line2D at 0x1d79387d310>,\n",
       "  <matplotlib.lines.Line2D at 0x1d79387d670>],\n",
       " 'boxes': [<matplotlib.lines.Line2D at 0x1d7938728b0>],\n",
       " 'medians': [<matplotlib.lines.Line2D at 0x1d79387d9d0>],\n",
       " 'fliers': [<matplotlib.lines.Line2D at 0x1d79387dd30>],\n",
       " 'means': []}"
      ]
     },
     "execution_count": 260,
     "metadata": {},
     "output_type": "execute_result"
    },
    {
     "data": {
      "image/png": "[encoded data removed]",
      "text/plain": [
       "<Figure size 432x288 with 1 Axes>"
      ]
     },
     "metadata": {
      "needs_background": "light"
     },
     "output_type": "display_data"
    }
   ],
   "source": [
    "plt.boxplot(data[\"Total Serum thyroxin\"])"
   ]
  },
  {
   "cell_type": "code",
   "execution_count": 261,
   "metadata": {},
   "outputs": [
    {
     "data": {
      "text/plain": [
       "{'whiskers': [<matplotlib.lines.Line2D at 0x1d791ec0bb0>,\n",
       "  <matplotlib.lines.Line2D at 0x1d791ec0ee0>],\n",
       " 'caps': [<matplotlib.lines.Line2D at 0x1d79195eaf0>,\n",
       "  <matplotlib.lines.Line2D at 0x1d79195ecd0>],\n",
       " 'boxes': [<matplotlib.lines.Line2D at 0x1d791ec0220>],\n",
       " 'medians': [<matplotlib.lines.Line2D at 0x1d7920d7340>],\n",
       " 'fliers': [<matplotlib.lines.Line2D at 0x1d791ebe1f0>],\n",
       " 'means': []}"
      ]
     },
     "execution_count": 261,
     "metadata": {},
     "output_type": "execute_result"
    },
    {
     "data": {
      "image/png": "[encoded data removed]",
      "text/plain": [
       "<Figure size 432x288 with 1 Axes>"
      ]
     },
     "metadata": {
      "needs_background": "light"
     },
     "output_type": "display_data"
    }
   ],
   "source": [
    "plt.boxplot(data[\"Total serum triiodothyronine\"])"
   ]
  },
  {
   "cell_type": "code",
   "execution_count": 262,
   "metadata": {},
   "outputs": [
    {
     "data": {
      "text/plain": [
       "(0.07499999999999996, 3.4750000000000005)"
      ]
     },
     "execution_count": 262,
     "metadata": {},
     "output_type": "execute_result"
    }
   ],
   "source": [
    "lower_1,upper_1=outlierremove(data[\"Total serum triiodothyronine\"])\n",
    "lower_1,upper_1\n"
   ]
  },
  {
   "cell_type": "code",
   "execution_count": 263,
   "metadata": {},
   "outputs": [],
   "source": [
    "data['Total serum triiodothyronine']=np.where(data['Total serum triiodothyronine']>upper_1,upper_1,data['Total serum triiodothyronine'])"
   ]
  },
  {
   "cell_type": "code",
   "execution_count": 264,
   "metadata": {},
   "outputs": [],
   "source": [
    "data['T3Total serum triiodothyronine']=np.where(data['Total serum triiodothyronine']<lower_1,lower_1,data['Total serum triiodothyronine'])"
   ]
  },
  {
   "cell_type": "code",
   "execution_count": 265,
   "metadata": {},
   "outputs": [
    {
     "data": {
      "text/plain": [
       "{'whiskers': [<matplotlib.lines.Line2D at 0x1d791fc4fd0>,\n",
       "  <matplotlib.lines.Line2D at 0x1d7926866d0>],\n",
       " 'caps': [<matplotlib.lines.Line2D at 0x1d792686b50>,\n",
       "  <matplotlib.lines.Line2D at 0x1d79264ebb0>],\n",
       " 'boxes': [<matplotlib.lines.Line2D at 0x1d791fc4190>],\n",
       " 'medians': [<matplotlib.lines.Line2D at 0x1d791e96b80>],\n",
       " 'fliers': [<matplotlib.lines.Line2D at 0x1d791e96640>],\n",
       " 'means': []}"
      ]
     },
     "execution_count": 265,
     "metadata": {},
     "output_type": "execute_result"
    },
    {
     "data": {
      "image/png": "[encoded data removed]",
      "text/plain": [
       "<Figure size 432x288 with 1 Axes>"
      ]
     },
     "metadata": {
      "needs_background": "light"
     },
     "output_type": "display_data"
    }
   ],
   "source": [
    "plt.boxplot(data[\"Total serum triiodothyronine\"])"
   ]
  },
  {
   "cell_type": "code",
   "execution_count": 266,
   "metadata": {},
   "outputs": [
    {
     "data": {
      "text/plain": [
       "{'whiskers': [<matplotlib.lines.Line2D at 0x1d791d67070>,\n",
       "  <matplotlib.lines.Line2D at 0x1d792206220>],\n",
       " 'caps': [<matplotlib.lines.Line2D at 0x1d7921fd610>,\n",
       "  <matplotlib.lines.Line2D at 0x1d7905e93d0>],\n",
       " 'boxes': [<matplotlib.lines.Line2D at 0x1d7925742b0>],\n",
       " 'medians': [<matplotlib.lines.Line2D at 0x1d791989d90>],\n",
       " 'fliers': [<matplotlib.lines.Line2D at 0x1d79389e4f0>],\n",
       " 'means': []}"
      ]
     },
     "execution_count": 266,
     "metadata": {},
     "output_type": "execute_result"
    },
    {
     "data": {
      "image/png": "[encoded data removed]",
      "text/plain": [
       "<Figure size 432x288 with 1 Axes>"
      ]
     },
     "metadata": {
      "needs_background": "light"
     },
     "output_type": "display_data"
    }
   ],
   "source": [
    "plt.boxplot(data[\"basal thyroid-stimulating hormone (TSH)\"])"
   ]
  },
  {
   "cell_type": "code",
   "execution_count": 267,
   "metadata": {},
   "outputs": [
    {
     "data": {
      "text/plain": [
       "(-0.04999999999999982, 2.75)"
      ]
     },
     "execution_count": 267,
     "metadata": {},
     "output_type": "execute_result"
    }
   ],
   "source": [
    "lower_1,upper_1=outlierremove(data[\"basal thyroid-stimulating hormone (TSH)\"])\n",
    "lower_1,upper_1\n"
   ]
  },
  {
   "cell_type": "code",
   "execution_count": 268,
   "metadata": {},
   "outputs": [],
   "source": [
    "data['basal thyroid-stimulating hormone (TSH)']=np.where(data['basal thyroid-stimulating hormone (TSH)']>upper_1,upper_1,data['basal thyroid-stimulating hormone (TSH)'])"
   ]
  },
  {
   "cell_type": "code",
   "execution_count": 269,
   "metadata": {},
   "outputs": [],
   "source": [
    "data['basal thyroid-stimulating hormone (TSH)']=np.where(data['basal thyroid-stimulating hormone (TSH)']<lower_1,lower_1,data['basal thyroid-stimulating hormone (TSH)'])"
   ]
  },
  {
   "cell_type": "code",
   "execution_count": 270,
   "metadata": {},
   "outputs": [
    {
     "data": {
      "text/plain": [
       "{'whiskers': [<matplotlib.lines.Line2D at 0x1d79394e700>,\n",
       "  <matplotlib.lines.Line2D at 0x1d79394ea60>],\n",
       " 'caps': [<matplotlib.lines.Line2D at 0x1d79394edc0>,\n",
       "  <matplotlib.lines.Line2D at 0x1d793957160>],\n",
       " 'boxes': [<matplotlib.lines.Line2D at 0x1d79394e3a0>],\n",
       " 'medians': [<matplotlib.lines.Line2D at 0x1d7939574c0>],\n",
       " 'fliers': [<matplotlib.lines.Line2D at 0x1d793957820>],\n",
       " 'means': []}"
      ]
     },
     "execution_count": 270,
     "metadata": {},
     "output_type": "execute_result"
    },
    {
     "data": {
      "image/png": "[encoded data removed]",
      "text/plain": [
       "<Figure size 432x288 with 1 Axes>"
      ]
     },
     "metadata": {
      "needs_background": "light"
     },
     "output_type": "display_data"
    }
   ],
   "source": [
    "plt.boxplot(data[\"basal thyroid-stimulating hormone (TSH)\"])"
   ]
  },
  {
   "cell_type": "code",
   "execution_count": 271,
   "metadata": {},
   "outputs": [
    {
     "data": {
      "text/plain": [
       "{'whiskers': [<matplotlib.lines.Line2D at 0x1d79398bb50>,\n",
       "  <matplotlib.lines.Line2D at 0x1d79398beb0>],\n",
       " 'caps': [<matplotlib.lines.Line2D at 0x1d793992250>,\n",
       "  <matplotlib.lines.Line2D at 0x1d7939925b0>],\n",
       " 'boxes': [<matplotlib.lines.Line2D at 0x1d79398b7f0>],\n",
       " 'medians': [<matplotlib.lines.Line2D at 0x1d793992910>],\n",
       " 'fliers': [<matplotlib.lines.Line2D at 0x1d793992c70>],\n",
       " 'means': []}"
      ]
     },
     "execution_count": 271,
     "metadata": {},
     "output_type": "execute_result"
    },
    {
     "data": {
      "image/png": "[encoded data removed]",
      "text/plain": [
       "<Figure size 432x288 with 1 Axes>"
      ]
     },
     "metadata": {
      "needs_background": "light"
     },
     "output_type": "display_data"
    }
   ],
   "source": [
    "plt.boxplot(data[\"Maximal absolute difference of TSH value after injection of 200 micro grams of thyrotropin releasing hormone as comparedto the basal value\"])"
   ]
  },
  {
   "cell_type": "code",
   "execution_count": 272,
   "metadata": {},
   "outputs": [
    {
     "data": {
      "text/plain": [
       "(-4.7749999999999995, 9.424999999999999)"
      ]
     },
     "execution_count": 272,
     "metadata": {},
     "output_type": "execute_result"
    }
   ],
   "source": [
    "lower_1,upper_1=outlierremove(data[\"Maximal absolute difference of TSH value after injection of 200 micro grams of thyrotropin releasing hormone as comparedto the basal value\"])\n",
    "lower_1,upper_1\n"
   ]
  },
  {
   "cell_type": "code",
   "execution_count": 273,
   "metadata": {},
   "outputs": [],
   "source": [
    "data['Maximal absolute difference of TSH value after injection of 200 micro grams of thyrotropin releasing hormone as comparedto the basal value']=np.where(data['Maximal absolute difference of TSH value after injection of 200 micro grams of thyrotropin releasing hormone as comparedto the basal value']>upper_1,upper_1,data['Maximal absolute difference of TSH value after injection of 200 micro grams of thyrotropin releasing hormone as comparedto the basal value'])"
   ]
  },
  {
   "cell_type": "code",
   "execution_count": 274,
   "metadata": {},
   "outputs": [],
   "source": [
    "data['Maximal absolute difference of TSH value after injection of 200 micro grams of thyrotropin releasing hormone as comparedto the basal value']=np.where(data['Maximal absolute difference of TSH value after injection of 200 micro grams of thyrotropin releasing hormone as comparedto the basal value']<lower_1,lower_1,data['Maximal absolute difference of TSH value after injection of 200 micro grams of thyrotropin releasing hormone as comparedto the basal value'])"
   ]
  },
  {
   "cell_type": "code",
   "execution_count": 275,
   "metadata": {},
   "outputs": [
    {
     "data": {
      "text/plain": [
       "{'whiskers': [<matplotlib.lines.Line2D at 0x1d7939c9f40>,\n",
       "  <matplotlib.lines.Line2D at 0x1d7939d32e0>],\n",
       " 'caps': [<matplotlib.lines.Line2D at 0x1d7939d3640>,\n",
       "  <matplotlib.lines.Line2D at 0x1d7939d39a0>],\n",
       " 'boxes': [<matplotlib.lines.Line2D at 0x1d7939c9be0>],\n",
       " 'medians': [<matplotlib.lines.Line2D at 0x1d7939d3d00>],\n",
       " 'fliers': [<matplotlib.lines.Line2D at 0x1d7939de0a0>],\n",
       " 'means': []}"
      ]
     },
     "execution_count": 275,
     "metadata": {},
     "output_type": "execute_result"
    },
    {
     "data": {
      "image/png": "[encoded data removed]",
      "text/plain": [
       "<Figure size 432x288 with 1 Axes>"
      ]
     },
     "metadata": {
      "needs_background": "light"
     },
     "output_type": "display_data"
    }
   ],
   "source": [
    "plt.boxplot(data[\"Maximal absolute difference of TSH value after injection of 200 micro grams of thyrotropin releasing hormone as comparedto the basal value\"])"
   ]
  },
  {
   "cell_type": "code",
   "execution_count": 276,
   "metadata": {},
   "outputs": [
    {
     "data": {
      "text/plain": [
       "<AxesSubplot:xlabel='Class attribute', ylabel='count'>"
      ]
     },
     "execution_count": 276,
     "metadata": {},
     "output_type": "execute_result"
    },
    {
     "data": {
      "image/png": "[encoded data removed]",
      "text/plain": [
       "<Figure size 432x288 with 1 Axes>"
      ]
     },
     "metadata": {
      "needs_background": "light"
     },
     "output_type": "display_data"
    }
   ],
   "source": [
    "sns.countplot(x=\"Class attribute\",data=data)"
   ]
  },
  {
   "cell_type": "code",
   "execution_count": 277,
   "metadata": {},
   "outputs": [
    {
     "data": {
      "text/plain": [
       "(array([0., 0., 0., 0., 0., 1., 0., 0., 0., 0.]),\n",
       " array([-0.5, -0.4, -0.3, -0.2, -0.1,  0. ,  0.1,  0.2,  0.3,  0.4,  0.5]),\n",
       " <BarContainer object of 10 artists>)"
      ]
     },
     "execution_count": 277,
     "metadata": {},
     "output_type": "execute_result"
    },
    {
     "data": {
      "image/png": "[encoded data removed]",
      "text/plain": [
       "<Figure size 432x288 with 1 Axes>"
      ]
     },
     "metadata": {
      "needs_background": "light"
     },
     "output_type": "display_data"
    }
   ],
   "source": [
    "plt.hist(\"T3 resin uptake test\",edgecolor=\"black\")"
   ]
  },
  {
   "cell_type": "code",
   "execution_count": 278,
   "metadata": {},
   "outputs": [
    {
     "name": "stderr",
     "output_type": "stream",
     "text": [
      "C:\\Users\\Admi\\anaconda3\\lib\\site-packages\\seaborn\\distributions.py:2551: FutureWarning: `distplot` is a deprecated function and will be removed in a future version. Please adapt your code to use either `displot` (a figure-level function with similar flexibility) or `histplot` (an axes-level function for histograms).\n",
      "  warnings.warn(msg, FutureWarning)\n"
     ]
    },
    {
     "data": {
      "text/plain": [
       "<AxesSubplot:xlabel='T3 resin uptake test', ylabel='Density'>"
      ]
     },
     "execution_count": 278,
     "metadata": {},
     "output_type": "execute_result"
    },
    {
     "data": {
      "image/png": "[encoded data removed]",
      "text/plain": [
       "<Figure size 432x288 with 1 Axes>"
      ]
     },
     "metadata": {
      "needs_background": "light"
     },
     "output_type": "display_data"
    }
   ],
   "source": [
    "sns.distplot(data[\"T3 resin uptake test\"])"
   ]
  },
  {
   "cell_type": "code",
   "execution_count": 279,
   "metadata": {},
   "outputs": [
    {
     "data": {
      "text/plain": [
       "(array([0., 0., 0., 0., 0., 1., 0., 0., 0., 0.]),\n",
       " array([-0.5, -0.4, -0.3, -0.2, -0.1,  0. ,  0.1,  0.2,  0.3,  0.4,  0.5]),\n",
       " <BarContainer object of 10 artists>)"
      ]
     },
     "execution_count": 279,
     "metadata": {},
     "output_type": "execute_result"
    },
    {
     "data": {
      "image/png": "[encoded data removed]",
      "text/plain": [
       "<Figure size 432x288 with 1 Axes>"
      ]
     },
     "metadata": {
      "needs_background": "light"
     },
     "output_type": "display_data"
    }
   ],
   "source": [
    "plt.hist(\"Total Serum thyroxin\",edgecolor=\"black\")"
   ]
  },
  {
   "cell_type": "code",
   "execution_count": 280,
   "metadata": {},
   "outputs": [
    {
     "name": "stderr",
     "output_type": "stream",
     "text": [
      "C:\\Users\\Admi\\anaconda3\\lib\\site-packages\\seaborn\\distributions.py:2551: FutureWarning: `distplot` is a deprecated function and will be removed in a future version. Please adapt your code to use either `displot` (a figure-level function with similar flexibility) or `histplot` (an axes-level function for histograms).\n",
      "  warnings.warn(msg, FutureWarning)\n"
     ]
    },
    {
     "data": {
      "text/plain": [
       "<AxesSubplot:xlabel='Total Serum thyroxin', ylabel='Density'>"
      ]
     },
     "execution_count": 280,
     "metadata": {},
     "output_type": "execute_result"
    },
    {
     "data": {
      "image/png": "[encoded data removed]",
      "text/plain": [
       "<Figure size 432x288 with 1 Axes>"
      ]
     },
     "metadata": {
      "needs_background": "light"
     },
     "output_type": "display_data"
    }
   ],
   "source": [
    "sns.distplot(data[\"Total Serum thyroxin\"])"
   ]
  },
  {
   "cell_type": "code",
   "execution_count": 281,
   "metadata": {},
   "outputs": [
    {
     "data": {
      "text/plain": [
       "(array([0., 0., 0., 0., 0., 1., 0., 0., 0., 0.]),\n",
       " array([-0.5, -0.4, -0.3, -0.2, -0.1,  0. ,  0.1,  0.2,  0.3,  0.4,  0.5]),\n",
       " <BarContainer object of 10 artists>)"
      ]
     },
     "execution_count": 281,
     "metadata": {},
     "output_type": "execute_result"
    },
    {
     "data": {
      "image/png": "[encoded data removed]",
      "text/plain": [
       "<Figure size 432x288 with 1 Axes>"
      ]
     },
     "metadata": {
      "needs_background": "light"
     },
     "output_type": "display_data"
    }
   ],
   "source": [
    "plt.hist(\"basal thyroid-stimulating hormone (TSH)\",edgecolor=\"black\")"
   ]
  },
  {
   "cell_type": "code",
   "execution_count": 282,
   "metadata": {},
   "outputs": [
    {
     "name": "stderr",
     "output_type": "stream",
     "text": [
      "C:\\Users\\Admi\\anaconda3\\lib\\site-packages\\seaborn\\distributions.py:2551: FutureWarning: `distplot` is a deprecated function and will be removed in a future version. Please adapt your code to use either `displot` (a figure-level function with similar flexibility) or `histplot` (an axes-level function for histograms).\n",
      "  warnings.warn(msg, FutureWarning)\n"
     ]
    },
    {
     "data": {
      "text/plain": [
       "<AxesSubplot:xlabel='basal thyroid-stimulating hormone (TSH)', ylabel='Density'>"
      ]
     },
     "execution_count": 282,
     "metadata": {},
     "output_type": "execute_result"
    },
    {
     "data": {
      "image/png": "[encoded data removed]",
      "text/plain": [
       "<Figure size 432x288 with 1 Axes>"
      ]
     },
     "metadata": {
      "needs_background": "light"
     },
     "output_type": "display_data"
    }
   ],
   "source": [
    "sns.distplot(data[\"basal thyroid-stimulating hormone (TSH)\"])"
   ]
  },
  {
   "cell_type": "code",
   "execution_count": 283,
   "metadata": {},
   "outputs": [],
   "source": [
    "d1=data.apply(LabelEncoder().fit_transform)"
   ]
  },
  {
   "cell_type": "code",
   "execution_count": 284,
   "metadata": {},
   "outputs": [],
   "source": [
    "d1 = d1.drop(d1.columns[6],axis=1)"
   ]
  },
  {
   "cell_type": "code",
   "execution_count": 285,
   "metadata": {},
   "outputs": [
    {
     "data": {
      "text/html": [
       "<div>\n",
       "<style scoped>\n",
       "    .dataframe tbody tr th:only-of-type {\n",
       "        vertical-align: middle;\n",
       "    }\n",
       "\n",
       "    .dataframe tbody tr th {\n",
       "        vertical-align: top;\n",
       "    }\n",
       "\n",
       "    .dataframe thead th {\n",
       "        text-align: right;\n",
       "    }\n",
       "</style>\n",
       "<table border=\"1\" class=\"dataframe\">\n",
       "  <thead>\n",
       "    <tr style=\"text-align: right;\">\n",
       "      <th></th>\n",
       "      <th>Class attribute</th>\n",
       "      <th>T3 resin uptake test</th>\n",
       "      <th>Total Serum thyroxin</th>\n",
       "      <th>Total serum triiodothyronine</th>\n",
       "      <th>basal thyroid-stimulating hormone (TSH)</th>\n",
       "      <th>Maximal absolute difference of TSH value after injection of 200 micro grams of thyrotropin releasing hormone as comparedto the basal value</th>\n",
       "    </tr>\n",
       "  </thead>\n",
       "  <tbody>\n",
       "    <tr>\n",
       "      <th>0</th>\n",
       "      <td>0</td>\n",
       "      <td>21</td>\n",
       "      <td>52</td>\n",
       "      <td>20</td>\n",
       "      <td>7</td>\n",
       "      <td>32</td>\n",
       "    </tr>\n",
       "    <tr>\n",
       "      <th>1</th>\n",
       "      <td>0</td>\n",
       "      <td>27</td>\n",
       "      <td>50</td>\n",
       "      <td>28</td>\n",
       "      <td>18</td>\n",
       "      <td>56</td>\n",
       "    </tr>\n",
       "    <tr>\n",
       "      <th>2</th>\n",
       "      <td>0</td>\n",
       "      <td>40</td>\n",
       "      <td>67</td>\n",
       "      <td>22</td>\n",
       "      <td>12</td>\n",
       "      <td>12</td>\n",
       "    </tr>\n",
       "    <tr>\n",
       "      <th>3</th>\n",
       "      <td>0</td>\n",
       "      <td>23</td>\n",
       "      <td>19</td>\n",
       "      <td>14</td>\n",
       "      <td>12</td>\n",
       "      <td>21</td>\n",
       "    </tr>\n",
       "    <tr>\n",
       "      <th>4</th>\n",
       "      <td>0</td>\n",
       "      <td>19</td>\n",
       "      <td>31</td>\n",
       "      <td>13</td>\n",
       "      <td>13</td>\n",
       "      <td>5</td>\n",
       "    </tr>\n",
       "  </tbody>\n",
       "</table>\n",
       "</div>"
      ],
      "text/plain": [
       "   Class attribute  T3 resin uptake test  Total Serum thyroxin  \\\n",
       "0                0                    21                    52   \n",
       "1                0                    27                    50   \n",
       "2                0                    40                    67   \n",
       "3                0                    23                    19   \n",
       "4                0                    19                    31   \n",
       "\n",
       "   Total serum triiodothyronine  basal thyroid-stimulating hormone (TSH)  \\\n",
       "0                            20                                        7   \n",
       "1                            28                                       18   \n",
       "2                            22                                       12   \n",
       "3                            14                                       12   \n",
       "4                            13                                       13   \n",
       "\n",
       "   Maximal absolute difference of TSH value after injection of 200 micro grams of thyrotropin releasing hormone as comparedto the basal value  \n",
       "0                                                 32                                                                                           \n",
       "1                                                 56                                                                                           \n",
       "2                                                 12                                                                                           \n",
       "3                                                 21                                                                                           \n",
       "4                                                  5                                                                                           "
      ]
     },
     "execution_count": 285,
     "metadata": {},
     "output_type": "execute_result"
    }
   ],
   "source": [
    "d1.head()"
   ]
  },
  {
   "cell_type": "code",
   "execution_count": 286,
   "metadata": {},
   "outputs": [],
   "source": [
    "def norm_func(i):\n",
    "    x=(i-i.mean())/(i.min()-i.max())\n",
    "    return x"
   ]
  },
  {
   "cell_type": "code",
   "execution_count": 287,
   "metadata": {},
   "outputs": [
    {
     "data": {
      "text/html": [
       "<div>\n",
       "<style scoped>\n",
       "    .dataframe tbody tr th:only-of-type {\n",
       "        vertical-align: middle;\n",
       "    }\n",
       "\n",
       "    .dataframe tbody tr th {\n",
       "        vertical-align: top;\n",
       "    }\n",
       "\n",
       "    .dataframe thead th {\n",
       "        text-align: right;\n",
       "    }\n",
       "</style>\n",
       "<table border=\"1\" class=\"dataframe\">\n",
       "  <thead>\n",
       "    <tr style=\"text-align: right;\">\n",
       "      <th></th>\n",
       "      <th>T3 resin uptake test</th>\n",
       "      <th>Total Serum thyroxin</th>\n",
       "      <th>Total serum triiodothyronine</th>\n",
       "      <th>basal thyroid-stimulating hormone (TSH)</th>\n",
       "      <th>Maximal absolute difference of TSH value after injection of 200 micro grams of thyrotropin releasing hormone as comparedto the basal value</th>\n",
       "    </tr>\n",
       "  </thead>\n",
       "  <tbody>\n",
       "    <tr>\n",
       "      <th>0</th>\n",
       "      <td>21</td>\n",
       "      <td>52</td>\n",
       "      <td>20</td>\n",
       "      <td>7</td>\n",
       "      <td>32</td>\n",
       "    </tr>\n",
       "    <tr>\n",
       "      <th>1</th>\n",
       "      <td>27</td>\n",
       "      <td>50</td>\n",
       "      <td>28</td>\n",
       "      <td>18</td>\n",
       "      <td>56</td>\n",
       "    </tr>\n",
       "    <tr>\n",
       "      <th>2</th>\n",
       "      <td>40</td>\n",
       "      <td>67</td>\n",
       "      <td>22</td>\n",
       "      <td>12</td>\n",
       "      <td>12</td>\n",
       "    </tr>\n",
       "    <tr>\n",
       "      <th>3</th>\n",
       "      <td>23</td>\n",
       "      <td>19</td>\n",
       "      <td>14</td>\n",
       "      <td>12</td>\n",
       "      <td>21</td>\n",
       "    </tr>\n",
       "    <tr>\n",
       "      <th>4</th>\n",
       "      <td>19</td>\n",
       "      <td>31</td>\n",
       "      <td>13</td>\n",
       "      <td>13</td>\n",
       "      <td>5</td>\n",
       "    </tr>\n",
       "    <tr>\n",
       "      <th>...</th>\n",
       "      <td>...</td>\n",
       "      <td>...</td>\n",
       "      <td>...</td>\n",
       "      <td>...</td>\n",
       "      <td>...</td>\n",
       "    </tr>\n",
       "    <tr>\n",
       "      <th>210</th>\n",
       "      <td>32</td>\n",
       "      <td>25</td>\n",
       "      <td>11</td>\n",
       "      <td>15</td>\n",
       "      <td>68</td>\n",
       "    </tr>\n",
       "    <tr>\n",
       "      <th>211</th>\n",
       "      <td>47</td>\n",
       "      <td>16</td>\n",
       "      <td>5</td>\n",
       "      <td>23</td>\n",
       "      <td>58</td>\n",
       "    </tr>\n",
       "    <tr>\n",
       "      <th>212</th>\n",
       "      <td>17</td>\n",
       "      <td>18</td>\n",
       "      <td>12</td>\n",
       "      <td>10</td>\n",
       "      <td>52</td>\n",
       "    </tr>\n",
       "    <tr>\n",
       "      <th>213</th>\n",
       "      <td>11</td>\n",
       "      <td>17</td>\n",
       "      <td>9</td>\n",
       "      <td>19</td>\n",
       "      <td>68</td>\n",
       "    </tr>\n",
       "    <tr>\n",
       "      <th>214</th>\n",
       "      <td>16</td>\n",
       "      <td>19</td>\n",
       "      <td>12</td>\n",
       "      <td>11</td>\n",
       "      <td>60</td>\n",
       "    </tr>\n",
       "  </tbody>\n",
       "</table>\n",
       "<p>215 rows × 5 columns</p>\n",
       "</div>"
      ],
      "text/plain": [
       "     T3 resin uptake test  Total Serum thyroxin  Total serum triiodothyronine  \\\n",
       "0                      21                    52                            20   \n",
       "1                      27                    50                            28   \n",
       "2                      40                    67                            22   \n",
       "3                      23                    19                            14   \n",
       "4                      19                    31                            13   \n",
       "..                    ...                   ...                           ...   \n",
       "210                    32                    25                            11   \n",
       "211                    47                    16                             5   \n",
       "212                    17                    18                            12   \n",
       "213                    11                    17                             9   \n",
       "214                    16                    19                            12   \n",
       "\n",
       "     basal thyroid-stimulating hormone (TSH)  \\\n",
       "0                                          7   \n",
       "1                                         18   \n",
       "2                                         12   \n",
       "3                                         12   \n",
       "4                                         13   \n",
       "..                                       ...   \n",
       "210                                       15   \n",
       "211                                       23   \n",
       "212                                       10   \n",
       "213                                       19   \n",
       "214                                       11   \n",
       "\n",
       "     Maximal absolute difference of TSH value after injection of 200 micro grams of thyrotropin releasing hormone as comparedto the basal value  \n",
       "0                                                   32                                                                                           \n",
       "1                                                   56                                                                                           \n",
       "2                                                   12                                                                                           \n",
       "3                                                   21                                                                                           \n",
       "4                                                    5                                                                                           \n",
       "..                                                 ...                                                                                           \n",
       "210                                                 68                                                                                           \n",
       "211                                                 58                                                                                           \n",
       "212                                                 52                                                                                           \n",
       "213                                                 68                                                                                           \n",
       "214                                                 60                                                                                           \n",
       "\n",
       "[215 rows x 5 columns]"
      ]
     },
     "execution_count": 287,
     "metadata": {},
     "output_type": "execute_result"
    }
   ],
   "source": [
    "d1.iloc[:,1:]"
   ]
  },
  {
   "cell_type": "code",
   "execution_count": 288,
   "metadata": {},
   "outputs": [
    {
     "data": {
      "text/plain": [
       "array([[ 0.05784884, -0.07609519, -0.12806202,  0.21354904, -0.03105335],\n",
       "       [-0.06715116, -0.05283937, -0.39472868, -0.26471183, -0.38399453],\n",
       "       [-0.3379845 , -0.25051379, -0.19472868, -0.00384226,  0.2630643 ],\n",
       "       ...,\n",
       "       [ 0.14118217,  0.31925365,  0.13860465,  0.08311426, -0.325171  ],\n",
       "       [ 0.26618217,  0.33088156,  0.23860465, -0.30819009, -0.56046512],\n",
       "       [ 0.1620155 ,  0.30762574,  0.13860465,  0.039636  , -0.44281806]])"
      ]
     },
     "execution_count": 288,
     "metadata": {},
     "output_type": "execute_result"
    }
   ],
   "source": [
    "data1=norm_func(d1.iloc[:,1:])\n",
    "data1=data1.values\n",
    "data1"
   ]
  },
  {
   "cell_type": "markdown",
   "metadata": {},
   "source": [
    "#### MODEL BUILDING AND MODEL EVALUTION"
   ]
  },
  {
   "cell_type": "code",
   "execution_count": 289,
   "metadata": {},
   "outputs": [],
   "source": [
    "from sklearn.model_selection import train_test_split\n",
    "Y=d1.iloc[:,0]\n",
    "X=data1"
   ]
  },
  {
   "cell_type": "code",
   "execution_count": 290,
   "metadata": {},
   "outputs": [
    {
     "data": {
      "text/plain": [
       "0      0\n",
       "1      0\n",
       "2      0\n",
       "3      0\n",
       "4      0\n",
       "      ..\n",
       "210    2\n",
       "211    2\n",
       "212    2\n",
       "213    2\n",
       "214    2\n",
       "Name: Class attribute, Length: 215, dtype: int64"
      ]
     },
     "execution_count": 290,
     "metadata": {},
     "output_type": "execute_result"
    }
   ],
   "source": [
    "Y"
   ]
  },
  {
   "cell_type": "code",
   "execution_count": 291,
   "metadata": {},
   "outputs": [],
   "source": [
    "X_train,X_test,Y_train,Y_test=train_test_split(X,Y,test_size=0.23)"
   ]
  },
  {
   "cell_type": "code",
   "execution_count": 292,
   "metadata": {},
   "outputs": [
    {
     "name": "stdout",
     "output_type": "stream",
     "text": [
      "X_train_shape (165, 5) X_test_shape (50, 5) Y_train_shape (165,) Y_test_shape (50,)\n"
     ]
    }
   ],
   "source": [
    "print(\"X_train_shape\",X_train.shape,\n",
    "     \"X_test_shape\",X_test.shape,\n",
    "     \"Y_train_shape\",Y_train.shape,\n",
    "     \"Y_test_shape\",Y_test.shape)"
   ]
  },
  {
   "cell_type": "markdown",
   "metadata": {},
   "source": [
    "### 1. Model  -  Logistic  Regression"
   ]
  },
  {
   "cell_type": "code",
   "execution_count": 293,
   "metadata": {},
   "outputs": [
    {
     "data": {
      "text/plain": [
       "LogisticRegression()"
      ]
     },
     "execution_count": 293,
     "metadata": {},
     "output_type": "execute_result"
    }
   ],
   "source": [
    "model_log=LogisticRegression()\n",
    "model_log.fit(X_train,Y_train)\n"
   ]
  },
  {
   "cell_type": "markdown",
   "metadata": {},
   "source": [
    "### 2. Model - Decision  Tree  Classifier"
   ]
  },
  {
   "cell_type": "code",
   "execution_count": 294,
   "metadata": {},
   "outputs": [
    {
     "data": {
      "text/plain": [
       "DecisionTreeClassifier(random_state=100)"
      ]
     },
     "execution_count": 294,
     "metadata": {},
     "output_type": "execute_result"
    }
   ],
   "source": [
    "model_dt=DecisionTreeClassifier(\n",
    "    criterion='gini',\n",
    "    splitter='best',\n",
    "    max_depth=None,\n",
    "    min_samples_split=2,\n",
    "    min_samples_leaf=1,\n",
    "    min_weight_fraction_leaf=0.0,\n",
    "    max_features=None,\n",
    "    random_state=100,\n",
    "    max_leaf_nodes=None,\n",
    "    min_impurity_decrease=0.0,\n",
    "    min_impurity_split=None,\n",
    "    class_weight=None,\n",
    "    presort='deprecated',\n",
    "    ccp_alpha=0.0,\n",
    "    )\n",
    "model_dt.fit(X_train,Y_train)\n"
   ]
  },
  {
   "cell_type": "markdown",
   "metadata": {},
   "source": [
    "### 3. Model -  SVM "
   ]
  },
  {
   "cell_type": "code",
   "execution_count": 295,
   "metadata": {},
   "outputs": [
    {
     "data": {
      "text/plain": [
       "SVC(C=13, gamma=0.5)"
      ]
     },
     "execution_count": 295,
     "metadata": {},
     "output_type": "execute_result"
    }
   ],
   "source": [
    "model_svm=SVC(\n",
    "    C=13,\n",
    "    kernel='rbf',\n",
    "    degree=3,\n",
    "    gamma=0.5,)\n",
    "model_svm.fit(X_train,Y_train)\n"
   ]
  },
  {
   "cell_type": "code",
   "execution_count": 296,
   "metadata": {},
   "outputs": [
    {
     "data": {
      "text/plain": [
       "GridSearchCV(cv=10, estimator=SVC(),\n",
       "             param_grid=[{'C': [25, 30, 40, 50, 20, 15, 14, 13, 12, 11, 10, 0.1,\n",
       "                                0.001],\n",
       "                          'gamma': [75, 85, 90, 95, 80, 70, 10, 0.5],\n",
       "                          'kernel': ['rbf']}])"
      ]
     },
     "execution_count": 296,
     "metadata": {},
     "output_type": "execute_result"
    }
   ],
   "source": [
    "clf = SVC()\n",
    "param_grid = [{'kernel':['rbf'],'gamma':[75,85,90,95,80,70,10,0.5],'C':[25,30,40,50,20,15,14,13,12,11,10,0.1,0.001] }]\n",
    "gsv = GridSearchCV(clf,param_grid,cv=10)\n",
    "gsv.fit(X_train,Y_train)"
   ]
  },
  {
   "cell_type": "code",
   "execution_count": 297,
   "metadata": {},
   "outputs": [
    {
     "data": {
      "text/plain": [
       "({'C': 40, 'gamma': 0.5, 'kernel': 'rbf'}, 0.9816176470588236)"
      ]
     },
     "execution_count": 297,
     "metadata": {},
     "output_type": "execute_result"
    }
   ],
   "source": [
    "gsv.best_params_ , gsv.best_score_"
   ]
  },
  {
   "cell_type": "markdown",
   "metadata": {},
   "source": [
    "### 4. Model - KNN "
   ]
  },
  {
   "cell_type": "code",
   "execution_count": 300,
   "metadata": {},
   "outputs": [
    {
     "data": {
      "text/plain": [
       "0.92"
      ]
     },
     "execution_count": 300,
     "metadata": {},
     "output_type": "execute_result"
    }
   ],
   "source": [
    "model_knn=KNeighborsClassifier(\n",
    "    n_neighbors=3,\n",
    "    weights='uniform',\n",
    "    algorithm='auto',\n",
    "    leaf_size=30,\n",
    "    p=2,\n",
    "    metric='minkowski',\n",
    "    metric_params=None,\n",
    "    n_jobs=None\n",
    ")\n",
    "model_knn.fit(X_train,Y_train)\n",
    "model_knn_score=model_knn.score(X_test,Y_test)\n",
    "model_knn_score"
   ]
  },
  {
   "cell_type": "code",
   "execution_count": 301,
   "metadata": {},
   "outputs": [],
   "source": [
    "n_neighbors = np.array(range(1,40))\n",
    "param_grid = dict(n_neighbors=n_neighbors)"
   ]
  },
  {
   "cell_type": "code",
   "execution_count": 302,
   "metadata": {},
   "outputs": [
    {
     "data": {
      "text/plain": [
       "GridSearchCV(estimator=KNeighborsClassifier(),\n",
       "             param_grid={'n_neighbors': array([ 1,  2,  3,  4,  5,  6,  7,  8,  9, 10, 11, 12, 13, 14, 15, 16, 17,\n",
       "       18, 19, 20, 21, 22, 23, 24, 25, 26, 27, 28, 29, 30, 31, 32, 33, 34,\n",
       "       35, 36, 37, 38, 39])})"
      ]
     },
     "execution_count": 302,
     "metadata": {},
     "output_type": "execute_result"
    }
   ],
   "source": [
    "model = KNeighborsClassifier()\n",
    "grid = GridSearchCV(estimator=model, param_grid=param_grid)\n",
    "grid.fit(X, Y)"
   ]
  },
  {
   "cell_type": "code",
   "execution_count": 303,
   "metadata": {},
   "outputs": [
    {
     "name": "stdout",
     "output_type": "stream",
     "text": [
      "0.9534883720930232\n",
      "{'n_neighbors': 3}\n"
     ]
    }
   ],
   "source": [
    "print(grid.best_score_)\n",
    "print(grid.best_params_)"
   ]
  },
  {
   "cell_type": "markdown",
   "metadata": {},
   "source": [
    "### 5. Model - Bagging Classifier"
   ]
  },
  {
   "cell_type": "code",
   "execution_count": 304,
   "metadata": {},
   "outputs": [
    {
     "data": {
      "text/plain": [
       "93.8961038961039"
      ]
     },
     "execution_count": 304,
     "metadata": {},
     "output_type": "execute_result"
    }
   ],
   "source": [
    "kfold = KFold(n_splits=10,)\n",
    "cart = DecisionTreeClassifier()\n",
    "num_trees = 100\n",
    "model_bagg= BaggingClassifier(base_estimator=cart, n_estimators=num_trees,random_state=100)\n",
    "results =cross_val_score(model_bagg, X, Y, cv=kfold)\n",
    "model_bagg_score=(results.mean()*100)\n",
    "model_bagg_score"
   ]
  },
  {
   "cell_type": "markdown",
   "metadata": {},
   "source": [
    "###  6. Model - Random Forest Classifier"
   ]
  },
  {
   "cell_type": "code",
   "execution_count": 305,
   "metadata": {},
   "outputs": [
    {
     "name": "stderr",
     "output_type": "stream",
     "text": [
      "C:\\Users\\Admi\\anaconda3\\lib\\site-packages\\sklearn\\model_selection\\_split.py:293: FutureWarning: Setting a random_state has no effect since shuffle is False. This will raise an error in 0.24. You should leave random_state to its default (None), or set shuffle=True.\n",
      "  warnings.warn(\n"
     ]
    },
    {
     "data": {
      "text/plain": [
       "95.30303030303031"
      ]
     },
     "execution_count": 305,
     "metadata": {},
     "output_type": "execute_result"
    }
   ],
   "source": [
    "num_trees = 90\n",
    "max_features = 3\n",
    "kfold = KFold(n_splits=10, random_state=7)\n",
    "model_rf= RandomForestClassifier(n_estimators=num_trees, max_features=max_features,random_state=100)\n",
    "results = cross_val_score(model_rf, X, Y, cv=kfold)\n",
    "model_rf_score=(results.mean()*100)\n",
    "model_rf_score"
   ]
  },
  {
   "cell_type": "markdown",
   "metadata": {},
   "source": [
    "### 7. Model - Adaboost classifier"
   ]
  },
  {
   "cell_type": "code",
   "execution_count": 306,
   "metadata": {},
   "outputs": [
    {
     "name": "stderr",
     "output_type": "stream",
     "text": [
      "C:\\Users\\Admi\\anaconda3\\lib\\site-packages\\sklearn\\model_selection\\_split.py:293: FutureWarning: Setting a random_state has no effect since shuffle is False. This will raise an error in 0.24. You should leave random_state to its default (None), or set shuffle=True.\n",
      "  warnings.warn(\n"
     ]
    },
    {
     "data": {
      "text/plain": [
       "70.06493506493506"
      ]
     },
     "execution_count": 306,
     "metadata": {},
     "output_type": "execute_result"
    }
   ],
   "source": [
    "num_trees = 10\n",
    "kfold = KFold(n_splits=10, random_state=100)\n",
    "model_ada= AdaBoostClassifier(n_estimators=num_trees,random_state=100)\n",
    "results = cross_val_score(model_ada, X, Y, cv=kfold)\n",
    "model_ada_score=(results.mean()*100)\n",
    "model_ada_score"
   ]
  },
  {
   "cell_type": "markdown",
   "metadata": {},
   "source": [
    "### 8. Model -  Voting Classifier"
   ]
  },
  {
   "cell_type": "code",
   "execution_count": 307,
   "metadata": {},
   "outputs": [
    {
     "name": "stderr",
     "output_type": "stream",
     "text": [
      "C:\\Users\\Admi\\anaconda3\\lib\\site-packages\\sklearn\\model_selection\\_split.py:293: FutureWarning: Setting a random_state has no effect since shuffle is False. This will raise an error in 0.24. You should leave random_state to its default (None), or set shuffle=True.\n",
      "  warnings.warn(\n"
     ]
    },
    {
     "data": {
      "text/plain": [
       "94.30735930735932"
      ]
     },
     "execution_count": 307,
     "metadata": {},
     "output_type": "execute_result"
    }
   ],
   "source": [
    "kfold = KFold(n_splits=10, random_state=100)\n",
    "\n",
    "# create the sub models\n",
    "estimators = []\n",
    "model1 = LogisticRegression(max_iter=500)\n",
    "estimators.append(('logistic', model1))\n",
    "model2 = DecisionTreeClassifier()\n",
    "estimators.append(('cart', model2))\n",
    "model3 = SVC()\n",
    "estimators.append(('svm', model3))\n",
    "\n",
    "# create the ensemble model\n",
    "ensemble = VotingClassifier(estimators)\n",
    "results = cross_val_score(ensemble, X, Y, cv=kfold)\n",
    "model_vot_score=(results.mean()*100)\n",
    "model_vot_score"
   ]
  },
  {
   "cell_type": "code",
   "execution_count": 308,
   "metadata": {},
   "outputs": [],
   "source": [
    "ACCURACY_TABEL={\n",
    "               \"Logistic Regression      \":model_log_score,\n",
    "               \"Decision Tree Classifier \":model_dt_score,\n",
    "               \"SVM(using GRIDSearchCV)  \":model_svm_score,\n",
    "               \"KNN(using GRIDSearchCV)  \":model_knn_score,\n",
    "               \"Bagging Classifier       \":model_bagg_score,\n",
    "               \"Random Forest Classifier \":model_rf_score,\n",
    "               \"Adaboost Classifier      \":model_ada_score,\n",
    "               \"Voting Classifier        \":model_vot_score\n",
    "               }"
   ]
  },
  {
   "cell_type": "code",
   "execution_count": 309,
   "metadata": {},
   "outputs": [
    {
     "data": {
      "text/plain": [
       "{'Logistic Regression      ': 98.0,\n",
       " 'Decision Tree Classifier ': 0.96,\n",
       " 'SVM(using GRIDSearchCV)  ': 0.98,\n",
       " 'KNN(using GRIDSearchCV)  ': 0.92,\n",
       " 'Bagging Classifier       ': 93.8961038961039,\n",
       " 'Random Forest Classifier ': 95.30303030303031,\n",
       " 'Adaboost Classifier      ': 70.06493506493506,\n",
       " 'Voting Classifier        ': 94.30735930735932}"
      ]
     },
     "execution_count": 309,
     "metadata": {},
     "output_type": "execute_result"
    }
   ],
   "source": [
    "ACCURACY_TABEL"
   ]
  },
  {
   "cell_type": "raw",
   "metadata": {},
   "source": [
    "NOTE : By analyzing the accuracy of all different models w efinalize the DECISION TREE CLASSIFIER MODEL AS Final Model"
   ]
  },
  {
   "cell_type": "markdown",
   "metadata": {},
   "source": [
    "#### FINAL MODEL:  DECISION TREE CLASSIFIER"
   ]
  },
  {
   "cell_type": "code",
   "execution_count": 310,
   "metadata": {},
   "outputs": [
    {
     "data": {
      "text/plain": [
       "0.92"
      ]
     },
     "execution_count": 310,
     "metadata": {},
     "output_type": "execute_result"
    }
   ],
   "source": [
    "model_2=DecisionTreeClassifier(\n",
    "    criterion='gini',\n",
    "    splitter='best',\n",
    "    max_depth=None,\n",
    "    min_samples_split=2,\n",
    "    min_samples_leaf=1,\n",
    "    min_weight_fraction_leaf=0.0,\n",
    "    max_features=None,\n",
    "    random_state=100,\n",
    "    max_leaf_nodes=None,\n",
    "    min_impurity_decrease=0.0,\n",
    "    min_impurity_split=None,\n",
    "    class_weight=None,\n",
    "    presort='deprecated',\n",
    "    ccp_alpha=0.0,\n",
    "    )\n",
    "model_2.fit(X_train,Y_train)\n",
    "model_2_score=model_2.score(X_test,Y_test)\n",
    "model_2_score"
   ]
  },
  {
   "cell_type": "code",
   "execution_count": 314,
   "metadata": {},
   "outputs": [
    {
     "data": {
      "text/plain": [
       "array([0, 0, 0, 0, 0, 1, 0, 1, 0, 0, 0, 1, 0, 1, 0, 2, 1, 0, 1, 0, 0, 0,\n",
       "       2, 1, 0, 0, 0, 0, 0, 0, 0, 0, 0, 0, 0, 0, 1, 0, 0, 0, 0, 0, 0, 0,\n",
       "       0, 2, 2, 1, 0, 2], dtype=int64)"
      ]
     },
     "execution_count": 314,
     "metadata": {},
     "output_type": "execute_result"
    }
   ],
   "source": [
    "model_svm.predict(X_test)"
   ]
  },
  {
   "cell_type": "code",
   "execution_count": 313,
   "metadata": {},
   "outputs": [
    {
     "data": {
      "text/plain": [
       "array([[  1.   , 107.   ,  10.1  , ...,   0.9  ,   2.7  ,   2.2  ],\n",
       "       [  1.   , 113.   ,   9.9  , ...,   2.   ,   5.9  ,   3.1  ],\n",
       "       [  1.   , 127.   ,  12.9  , ...,   1.4  ,   0.6  ,   2.4  ],\n",
       "       ...,\n",
       "       [  3.   , 103.   ,   5.1  , ...,   1.2  ,   5.   ,   1.4  ],\n",
       "       [  3.   ,  97.   ,   4.7  , ...,   2.1  ,   9.425,   1.1  ],\n",
       "       [  3.   , 102.   ,   5.3  , ...,   1.3  ,   6.7  ,   1.4  ]])"
      ]
     },
     "execution_count": 313,
     "metadata": {},
     "output_type": "execute_result"
    }
   ],
   "source": [
    "data.values"
   ]
  },
  {
   "cell_type": "code",
   "execution_count": 238,
   "metadata": {},
   "outputs": [],
   "source": [
    "\n",
    "pickle.dump(model_log,open('model_log.pkl','wb'))\n",
    "\n",
    "pickle.dump(model_dt,open('model_dt.pkl','wb'))\n",
    "\n",
    "pickle.dump(model_svm,open('model_svm.pkl','wb'))\n",
    "\n"
   ]
  },
  {
   "cell_type": "code",
   "execution_count": 327,
   "metadata": {},
   "outputs": [
    {
     "ename": "NameError",
     "evalue": "name 'matplotlib' is not defined",
     "output_type": "error",
     "traceback": [
      "\u001b[1;31m---------------------------------------------------------------------------\u001b[0m",
      "\u001b[1;31mNameError\u001b[0m                                 Traceback (most recent call last)",
      "\u001b[1;32m<ipython-input-327-dd805d611f8f>\u001b[0m in \u001b[0;36m<module>\u001b[1;34m\u001b[0m\n\u001b[1;32m----> 1\u001b[1;33m \u001b[0mmatplotlib\u001b[0m\u001b[1;33m.\u001b[0m\u001b[0m__version__\u001b[0m\u001b[1;33m\u001b[0m\u001b[1;33m\u001b[0m\u001b[0m\n\u001b[0m",
      "\u001b[1;31mNameError\u001b[0m: name 'matplotlib' is not defined"
     ]
    }
   ],
   "source": [
    " matplotlib.__version__"
   ]
  },
  {
   "cell_type": "code",
   "execution_count": 319,
   "metadata": {},
   "outputs": [
    {
     "ename": "NameError",
     "evalue": "name 'sklearn' is not defined",
     "output_type": "error",
     "traceback": [
      "\u001b[1;31m---------------------------------------------------------------------------\u001b[0m",
      "\u001b[1;31mNameError\u001b[0m                                 Traceback (most recent call last)",
      "\u001b[1;32m<ipython-input-319-b6cf670020b2>\u001b[0m in \u001b[0;36m<module>\u001b[1;34m\u001b[0m\n\u001b[1;32m----> 1\u001b[1;33m \u001b[0mprint\u001b[0m\u001b[1;33m(\u001b[0m\u001b[1;34m'The scikit-learn version is {}.'\u001b[0m\u001b[1;33m.\u001b[0m\u001b[0mformat\u001b[0m\u001b[1;33m(\u001b[0m\u001b[0msklearn\u001b[0m\u001b[1;33m.\u001b[0m\u001b[0m__version__\u001b[0m\u001b[1;33m)\u001b[0m\u001b[1;33m)\u001b[0m\u001b[1;33m\u001b[0m\u001b[1;33m\u001b[0m\u001b[0m\n\u001b[0m",
      "\u001b[1;31mNameError\u001b[0m: name 'sklearn' is not defined"
     ]
    }
   ],
   "source": [
    "print('The scikit-learn version is {}.'.format(sklearn.__version__))"
   ]
  },
  {
   "cell_type": "code",
   "execution_count": 323,
   "metadata": {},
   "outputs": [
    {
     "ename": "AttributeError",
     "evalue": "module 'matplotlib.pyplot' has no attribute '__version__'",
     "output_type": "error",
     "traceback": [
      "\u001b[1;31m---------------------------------------------------------------------------\u001b[0m",
      "\u001b[1;31mAttributeError\u001b[0m                            Traceback (most recent call last)",
      "\u001b[1;32m<ipython-input-323-4e40ebf0e3af>\u001b[0m in \u001b[0;36m<module>\u001b[1;34m\u001b[0m\n\u001b[0;32m      1\u001b[0m \u001b[1;32mimport\u001b[0m \u001b[0msklearn\u001b[0m\u001b[1;33m\u001b[0m\u001b[1;33m\u001b[0m\u001b[0m\n\u001b[1;32m----> 2\u001b[1;33m \u001b[0mprint\u001b[0m\u001b[1;33m(\u001b[0m\u001b[0mplt\u001b[0m\u001b[1;33m.\u001b[0m\u001b[0m__version__\u001b[0m\u001b[1;33m)\u001b[0m\u001b[1;33m\u001b[0m\u001b[1;33m\u001b[0m\u001b[0m\n\u001b[0m",
      "\u001b[1;31mAttributeError\u001b[0m: module 'matplotlib.pyplot' has no attribute '__version__'"
     ]
    }
   ],
   "source": [
    "import sklearn\n",
    "print(plt.__version__)"
   ]
  },
  {
   "cell_type": "code",
   "execution_count": null,
   "metadata": {},
   "outputs": [],
   "source": []
  }
 ],
 "metadata": {
  "kernelspec": {
   "display_name": "Python 3",
   "language": "python",
   "name": "python3"
  },
  "language_info": {
   "codemirror_mode": {
    "name": "ipython",
    "version": 3
   },
   "file_extension": ".py",
   "mimetype": "text/x-python",
   "name": "python",
   "nbconvert_exporter": "python",
   "pygments_lexer": "ipython3",
   "version": "3.8.5"
  }
 },
 "nbformat": 4,
 "nbformat_minor": 4
}
